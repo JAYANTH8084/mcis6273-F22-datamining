{
 "cells": [
  {
   "cell_type": "code",
   "execution_count": null,
   "metadata": {},
   "outputs": [],
   "source": []
  },
  {
   "cell_type": "markdown",
   "metadata": {},
   "source": [
    "### Assignment Zero\n",
    "### Zotera UserID : Jayanth8084\n",
    "### Zotera Registered Email ID : JYanamaddi2754@muleriders.saumag.edu"
   ]
  },
  {
   "cell_type": "markdown",
   "metadata": {},
   "source": [
    "#### Q.1  List 3 things that you learned from this podcast?\n",
    "\n",
    "Overall the Podcast Talk Python was so much informative. These are the list of things I have learnt from the podcast :\n",
    "\n",
    "- Adam explained how Jupyter notebook and Github has created a valuable impact on the data industry. It was really helpful to know this. Especially when the Github usefulness goes beyond academia.\n",
    "\n",
    "- It is fascinating to see how data science has so many sectors of applications and the usefulness to the students has been impoved by the use of notebooks\n",
    "\n",
    "- The computational notebooks properly give the computational narrative using the notebook cell by cell description\n",
    "\n"
   ]
  },
  {
   "cell_type": "markdown",
   "metadata": {},
   "source": [
    "### Q. 2 What is your reaction to the podcast? Pick at least one point Adam brought up in the interview that you agree with and list your reason why? \n",
    "\n",
    "Adam's Podcast was very helpful in the initial part of course. looking forward for many such good podcasts in future as well.\n",
    "\n",
    "In the podcast he says, \"It is fascinating that, You get to build stuff that is conceptual but it runs\", which is so true. Here, even though it's sort of virtual, you still get to build things. But this would take it to another level. The things are so accurate if understand to the deeper level. I completely agree that we get to build things be it virtual but impactful."
   ]
  },
  {
   "cell_type": "markdown",
   "metadata": {},
   "source": [
    "### Q. 3  After listening to the podcast , do you think you are more interested or less interested in learning from Jupyter notebooks on Github?\n",
    "\n",
    "I think for the initial phase of any student, jupyter notebook is a best way to start this amazing journey. I am exited to work on notebooks and also on Github."
   ]
  },
  {
   "cell_type": "code",
   "execution_count": null,
   "metadata": {},
   "outputs": [],
   "source": []
  },
  {
   "cell_type": "code",
   "execution_count": null,
   "metadata": {},
   "outputs": [],
   "source": []
  }
 ],
 "metadata": {
  "kernelspec": {
   "display_name": "Python 3.10.5 64-bit",
   "language": "python",
   "name": "python3"
  },
  "language_info": {
   "codemirror_mode": {
    "name": "ipython",
    "version": 3
   },
   "file_extension": ".py",
   "mimetype": "text/x-python",
   "name": "python",
   "nbconvert_exporter": "python",
   "pygments_lexer": "ipython3",
   "version": "3.10.5"
  },
  "vscode": {
   "interpreter": {
    "hash": "aee8b7b246df8f9039afb4144a1f6fd8d2ca17a180786b69acc140d282b71a49"
   }
  }
 },
 "nbformat": 4,
 "nbformat_minor": 2
}
